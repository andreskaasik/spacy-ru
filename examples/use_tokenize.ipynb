{
 "cells": [
  {
   "cell_type": "code",
   "execution_count": 1,
   "metadata": {},
   "outputs": [],
   "source": [
    "import sys\n",
    "sys.path.append('..')\n",
    "import pandas as pd\n",
    "%load_ext autoreload\n",
    "%autoreload 2"
   ]
  },
  {
   "cell_type": "markdown",
   "metadata": {},
   "source": [
    "## Скачиваем данные"
   ]
  },
  {
   "cell_type": "markdown",
   "metadata": {
    "colab": {
     "autoexec": {
      "startup": false,
      "wait_interval": 0
     },
     "base_uri": "https://localhost:8080/",
     "height": 34
    },
    "colab_type": "code",
    "executionInfo": {
     "elapsed": 18960,
     "status": "ok",
     "timestamp": 1531741939498,
     "user": {
      "displayName": "Anton Mushin",
      "photoUrl": "//lh4.googleusercontent.com/-CFqPZ5juSsw/AAAAAAAAAAI/AAAAAAAAAE0/oAG9KjfgDXM/s50-c-k-no/photo.jpg",
      "userId": "111402449243368750827"
     },
     "user_tz": -240
    },
    "id": "Hc2sdmSG5qha",
    "outputId": "9648bdc4-73d9-4213-9137-b6c1cf772f42"
   },
   "source": [
    "```\n",
    "mkdir ./data\n",
    "wget https://s3-us-west-2.amazonaws.com/lenta-news-dataset/news_lenta.csv -O ./data/lenta_data.csv\n",
    "```"
   ]
  },
  {
   "cell_type": "code",
   "execution_count": 2,
   "metadata": {
    "colab": {
     "autoexec": {
      "startup": false,
      "wait_interval": 0
     },
     "base_uri": "https://localhost:8080/",
     "height": 68
    },
    "colab_type": "code",
    "executionInfo": {
     "elapsed": 607,
     "status": "ok",
     "timestamp": 1531742745397,
     "user": {
      "displayName": "Anton Mushin",
      "photoUrl": "//lh4.googleusercontent.com/-CFqPZ5juSsw/AAAAAAAAAAI/AAAAAAAAAE0/oAG9KjfgDXM/s50-c-k-no/photo.jpg",
      "userId": "111402449243368750827"
     },
     "user_tz": -240
    },
    "id": "XLkbqWuh5cgu",
    "outputId": "53029908-f3d2-437f-d865-c160664e0c9e"
   },
   "outputs": [
    {
     "name": "stdout",
     "output_type": "stream",
     "text": [
      "[nltk_data] Downloading package stopwords to /home/buriy/nltk_data...\n",
      "[nltk_data]   Package stopwords is already up-to-date!\n"
     ]
    },
    {
     "data": {
      "text/plain": [
       "True"
      ]
     },
     "execution_count": 2,
     "metadata": {},
     "output_type": "execute_result"
    }
   ],
   "source": [
    "import nltk\n",
    "nltk.download('stopwords')\n"
   ]
  },
  {
   "cell_type": "markdown",
   "metadata": {},
   "source": [
    "## Пример использования токенайзера"
   ]
  },
  {
   "cell_type": "code",
   "execution_count": 3,
   "metadata": {
    "colab": {
     "autoexec": {
      "startup": false,
      "wait_interval": 0
     }
    },
    "colab_type": "code",
    "id": "CLaCPC-M5cg8"
   },
   "outputs": [],
   "source": [
    "import pandas as pd\n",
    "import seaborn as sns\n",
    "import matplotlib.pyplot as plt\n",
    "import string\n",
    "from tqdm import tqdm_notebook as tqdm\n",
    "from sklearn.base import TransformerMixin\n",
    "from sklearn.feature_extraction.text import CountVectorizer\n",
    "from sklearn.pipeline import Pipeline\n",
    "from sklearn.svm import LinearSVC\n",
    "from sklearn import metrics\n",
    "from collections import Counter\n",
    "from nltk.corpus import stopwords\n",
    "from spacy.symbols import PRON\n",
    "from ru2 import Russian2\n",
    "from sklearn.model_selection import train_test_split\n",
    "stopwords = stopwords.words('russian')\n",
    "\n",
    "import os\n",
    "import sys\n",
    "#module_path = os.path.abspath(os.path.join(os.pardir, os.pardir))\n",
    "#if module_path not in sys.path:\n",
    "#    sys.path.append(module_path)\n",
    "\n",
    "from examples.linguistics import Linguistic\n",
    "\n",
    "STOPLIST = set(stopwords)\n",
    "SYMBOLS = \" \".join(string.punctuation).split(\" \") + [\"-\", \"...\", \"”\", \"”\",\"«\",\"»\"]"
   ]
  },
  {
   "cell_type": "code",
   "execution_count": 4,
   "metadata": {},
   "outputs": [],
   "source": [
    "def plot_top(common_word,common_counts,name):\n",
    "    fig = plt.figure(figsize=(18,6))\n",
    "    sns.barplot(x=common_word, y=common_counts)\n",
    "    plt.title('Наиболее распространенные слова, используемые в текстах по теме %s' % name)\n",
    "    plt.show();"
   ]
  },
  {
   "cell_type": "code",
   "execution_count": 5,
   "metadata": {
    "colab": {
     "autoexec": {
      "startup": false,
      "wait_interval": 0
     },
     "base_uri": "https://localhost:8080/",
     "height": 204
    },
    "colab_type": "code",
    "executionInfo": {
     "elapsed": 26393,
     "status": "ok",
     "timestamp": 1531742781962,
     "user": {
      "displayName": "Anton Mushin",
      "photoUrl": "//lh4.googleusercontent.com/-CFqPZ5juSsw/AAAAAAAAAAI/AAAAAAAAAE0/oAG9KjfgDXM/s50-c-k-no/photo.jpg",
      "userId": "111402449243368750827"
     },
     "user_tz": -240
    },
    "id": "FB1NVylq5cg_",
    "outputId": "abd4de07-9531-4773-b57f-f355d0c23f14"
   },
   "outputs": [
    {
     "data": {
      "text/html": [
       "<div>\n",
       "<style scoped>\n",
       "    .dataframe tbody tr th:only-of-type {\n",
       "        vertical-align: middle;\n",
       "    }\n",
       "\n",
       "    .dataframe tbody tr th {\n",
       "        vertical-align: top;\n",
       "    }\n",
       "\n",
       "    .dataframe thead th {\n",
       "        text-align: right;\n",
       "    }\n",
       "</style>\n",
       "<table border=\"1\" class=\"dataframe\">\n",
       "  <thead>\n",
       "    <tr style=\"text-align: right;\">\n",
       "      <th></th>\n",
       "      <th>tags</th>\n",
       "      <th>text</th>\n",
       "      <th>title</th>\n",
       "      <th>topic</th>\n",
       "      <th>url</th>\n",
       "    </tr>\n",
       "  </thead>\n",
       "  <tbody>\n",
       "    <tr>\n",
       "      <th>0</th>\n",
       "      <td>Общество</td>\n",
       "      <td>Миллиардер Илон Маск в резкой форме ответил бр...</td>\n",
       "      <td>Илон Маск назвал педофилом спасавшего детей из...</td>\n",
       "      <td>Мир</td>\n",
       "      <td>https://lenta.ru/news/2018/07/16/su57/</td>\n",
       "    </tr>\n",
       "    <tr>\n",
       "      <th>1</th>\n",
       "      <td>Рынки</td>\n",
       "      <td>США и их западные союзники рассматривают возмо...</td>\n",
       "      <td>США задумались о распечатывании нефтяного резерва</td>\n",
       "      <td>Экономика</td>\n",
       "      <td>https://lenta.ru/news/2018/07/16/foes/</td>\n",
       "    </tr>\n",
       "    <tr>\n",
       "      <th>2</th>\n",
       "      <td>Преступность</td>\n",
       "      <td>Празднование победы сборной Франции на чемпион...</td>\n",
       "      <td>Празднование победы на ЧМ во Франции закончило...</td>\n",
       "      <td>Мир</td>\n",
       "      <td>https://lenta.ru/news/2018/07/15/fra_bezumie/</td>\n",
       "    </tr>\n",
       "    <tr>\n",
       "      <th>3</th>\n",
       "      <td>Политика</td>\n",
       "      <td>География использования лимузинов проекта «Кор...</td>\n",
       "      <td>Песков рассказал о планах на президентские лим...</td>\n",
       "      <td>Россия</td>\n",
       "      <td>https://lenta.ru/news/2018/07/16/delo_shyut/</td>\n",
       "    </tr>\n",
       "    <tr>\n",
       "      <th>4</th>\n",
       "      <td>Музыка</td>\n",
       "      <td>Американская поп-певица Бритни Спирс случайно ...</td>\n",
       "      <td>Грудь Бритни Спирс вновь выскочила из лифчика ...</td>\n",
       "      <td>Культура</td>\n",
       "      <td>https://lenta.ru/news/2018/07/16/pedomusk/</td>\n",
       "    </tr>\n",
       "  </tbody>\n",
       "</table>\n",
       "</div>"
      ],
      "text/plain": [
       "           tags                                               text  \\\n",
       "0      Общество  Миллиардер Илон Маск в резкой форме ответил бр...   \n",
       "1         Рынки  США и их западные союзники рассматривают возмо...   \n",
       "2  Преступность  Празднование победы сборной Франции на чемпион...   \n",
       "3      Политика  География использования лимузинов проекта «Кор...   \n",
       "4        Музыка  Американская поп-певица Бритни Спирс случайно ...   \n",
       "\n",
       "                                               title      topic  \\\n",
       "0  Илон Маск назвал педофилом спасавшего детей из...        Мир   \n",
       "1  США задумались о распечатывании нефтяного резерва  Экономика   \n",
       "2  Празднование победы на ЧМ во Франции закончило...        Мир   \n",
       "3  Песков рассказал о планах на президентские лим...     Россия   \n",
       "4  Грудь Бритни Спирс вновь выскочила из лифчика ...   Культура   \n",
       "\n",
       "                                             url  \n",
       "0         https://lenta.ru/news/2018/07/16/su57/  \n",
       "1         https://lenta.ru/news/2018/07/16/foes/  \n",
       "2  https://lenta.ru/news/2018/07/15/fra_bezumie/  \n",
       "3   https://lenta.ru/news/2018/07/16/delo_shyut/  \n",
       "4     https://lenta.ru/news/2018/07/16/pedomusk/  "
      ]
     },
     "execution_count": 5,
     "metadata": {},
     "output_type": "execute_result"
    }
   ],
   "source": [
    "all_data = pd.read_csv('../data/news_lenta.csv')\n",
    "all_data.head()"
   ]
  },
  {
   "cell_type": "markdown",
   "metadata": {},
   "source": [
    "нас будет интересовать только текст новости и топик к которому данный текст отностится."
   ]
  },
  {
   "cell_type": "code",
   "execution_count": 6,
   "metadata": {},
   "outputs": [
    {
     "data": {
      "text/html": [
       "<div>\n",
       "<style scoped>\n",
       "    .dataframe tbody tr th:only-of-type {\n",
       "        vertical-align: middle;\n",
       "    }\n",
       "\n",
       "    .dataframe tbody tr th {\n",
       "        vertical-align: top;\n",
       "    }\n",
       "\n",
       "    .dataframe thead th {\n",
       "        text-align: right;\n",
       "    }\n",
       "</style>\n",
       "<table border=\"1\" class=\"dataframe\">\n",
       "  <thead>\n",
       "    <tr style=\"text-align: right;\">\n",
       "      <th></th>\n",
       "      <th>title</th>\n",
       "      <th>topic</th>\n",
       "    </tr>\n",
       "  </thead>\n",
       "  <tbody>\n",
       "    <tr>\n",
       "      <th>699741</th>\n",
       "      <td>Леворадикалы создают предвыборный блок</td>\n",
       "      <td>Россия</td>\n",
       "    </tr>\n",
       "    <tr>\n",
       "      <th>699742</th>\n",
       "      <td>Литва засудила участников переворота 91 года</td>\n",
       "      <td>Мир</td>\n",
       "    </tr>\n",
       "    <tr>\n",
       "      <th>699743</th>\n",
       "      <td>Коржаков готов рассказать Генпрокуратуре про ф...</td>\n",
       "      <td>Россия</td>\n",
       "    </tr>\n",
       "    <tr>\n",
       "      <th>699744</th>\n",
       "      <td>Еще одно землетрясение в Турции: один человек ...</td>\n",
       "      <td>Мир</td>\n",
       "    </tr>\n",
       "    <tr>\n",
       "      <th>699745</th>\n",
       "      <td>Киргизия ведет бои на границах с Таджикистаном...</td>\n",
       "      <td>Мир</td>\n",
       "    </tr>\n",
       "  </tbody>\n",
       "</table>\n",
       "</div>"
      ],
      "text/plain": [
       "                                                    title   topic\n",
       "699741             Леворадикалы создают предвыборный блок  Россия\n",
       "699742       Литва засудила участников переворота 91 года     Мир\n",
       "699743  Коржаков готов рассказать Генпрокуратуре про ф...  Россия\n",
       "699744  Еще одно землетрясение в Турции: один человек ...     Мир\n",
       "699745  Киргизия ведет бои на границах с Таджикистаном...     Мир"
      ]
     },
     "execution_count": 6,
     "metadata": {},
     "output_type": "execute_result"
    }
   ],
   "source": [
    "all_data = all_data[['title','topic']]\n",
    "all_data.tail()\n"
   ]
  },
  {
   "cell_type": "markdown",
   "metadata": {},
   "source": [
    "Посмотрим на количество текстов по каждому из представленных топиков."
   ]
  },
  {
   "cell_type": "code",
   "execution_count": 7,
   "metadata": {},
   "outputs": [
    {
     "data": {
      "text/plain": [
       "topic\n",
       "Россия               158072\n",
       "Мир                  134334\n",
       "Экономика             77673\n",
       "Спорт                 62463\n",
       "Культура              52600\n",
       "Бывший СССР           52018\n",
       "Наука и техника       51869\n",
       "Интернет и СМИ        43313\n",
       "Из жизни              26356\n",
       "Силовые структуры     18480\n",
       "Бизнес                 7398\n",
       "Ценности               6832\n",
       "Путешествия            6045\n",
       "69-я параллель         1095\n",
       "Крым                    666\n",
       "Культпросвет            340\n",
       "Легпром                 114\n",
       "Библиотека               65\n",
       "Дом                       6\n",
       "Оружие                    3\n",
       "ЧМ-2014                   2\n",
       "Сочи                      1\n",
       "МедНовости                1\n",
       "Name: title, dtype: int64"
      ]
     },
     "execution_count": 7,
     "metadata": {},
     "output_type": "execute_result"
    }
   ],
   "source": [
    "all_data.groupby('topic',group_keys=False)['title'].count().sort_values(ascending=False)"
   ]
  },
  {
   "cell_type": "markdown",
   "metadata": {},
   "source": [
    "## Классификация по двум классам\n",
    "\n",
    "выбираем два самых популярных топика для классификации: Россия и Мир"
   ]
  },
  {
   "cell_type": "code",
   "execution_count": 8,
   "metadata": {},
   "outputs": [
    {
     "name": "stdout",
     "output_type": "stream",
     "text": [
      "Для топиков:  ['Россия', 'Мир']\n",
      "Размерность данных для тренировки: (195912, 2)\n",
      "Размерность данных для тестирования: (96494, 2)\n"
     ]
    }
   ],
   "source": [
    "def get_data_by_topics(data,topics,test_size=.33):\n",
    "    df=data[data['topic'].isin(topics)]\n",
    "    train, test = train_test_split(df, test_size=test_size, random_state=42)\n",
    "    print('Для топиков: ',topics)\n",
    "    print('Размерность данных для тренировки:', train.shape)\n",
    "    print('Размерность данных для тестирования:', test.shape)\n",
    "    return df, train, test\n",
    "\n",
    "df,train,test = get_data_by_topics(all_data, ['Россия','Мир'])"
   ]
  },
  {
   "cell_type": "code",
   "execution_count": 9,
   "metadata": {
    "colab": {
     "autoexec": {
      "startup": false,
      "wait_interval": 0
     }
    },
    "colab_type": "code",
    "id": "VC-rUqhO5chI"
   },
   "outputs": [],
   "source": [
    "ru_nlp = Russian2()\n",
    "ru_nlp.add_pipe(ru_nlp.create_pipe('sentencizer'))\n",
    "ling=Linguistic(ru_nlp, STOPLIST, punctuations=SYMBOLS)"
   ]
  },
  {
   "cell_type": "code",
   "execution_count": 10,
   "metadata": {},
   "outputs": [],
   "source": [
    "ru_text = [text for text in train[train['topic'] == 'Россия']['title']]\n",
    "world_text = [text for text in train[train['topic'] == 'Мир']['title']]\n"
   ]
  },
  {
   "cell_type": "code",
   "execution_count": 11,
   "metadata": {
    "colab": {
     "autoexec": {
      "startup": false,
      "wait_interval": 0
     }
    },
    "colab_type": "code",
    "id": "9_dvNNH25chM"
   },
   "outputs": [
    {
     "data": {
      "application/vnd.jupyter.widget-view+json": {
       "model_id": "39bd4529aecd4a19ad8380e257028bd0",
       "version_major": 2,
       "version_minor": 0
      },
      "text/plain": [
       "HBox(children=(IntProgress(value=0, max=105927), HTML(value='')))"
      ]
     },
     "metadata": {},
     "output_type": "display_data"
    },
    {
     "name": "stdout",
     "output_type": "stream",
     "text": [
      "\n"
     ]
    },
    {
     "data": {
      "application/vnd.jupyter.widget-view+json": {
       "model_id": "5e81ec49aede429d9611c57cee468fb2",
       "version_major": 2,
       "version_minor": 0
      },
      "text/plain": [
       "HBox(children=(IntProgress(value=0, max=89985), HTML(value='')))"
      ]
     },
     "metadata": {},
     "output_type": "display_data"
    },
    {
     "name": "stdout",
     "output_type": "stream",
     "text": [
      "\n"
     ]
    }
   ],
   "source": [
    "ru_clean = pd.Series(ling.cleanup(ru_text,show_progress=tqdm))\n",
    "ru_clean = ' '.join(ru_clean).split()\n",
    "\n",
    "world_clean = pd.Series(ling.cleanup(world_text,show_progress=tqdm))\n",
    "world_clean = ' '.join(world_clean).split()"
   ]
  },
  {
   "cell_type": "code",
   "execution_count": 12,
   "metadata": {},
   "outputs": [],
   "source": [
    "ru_counts = Counter(ru_clean)\n",
    "world_counts = Counter(world_clean)\n",
    "\n",
    "ru_common_words = [word[0] for word in ru_counts.most_common(20)]\n",
    "ru_common_counts = [word[1] for word in ru_counts.most_common(20)]\n",
    "\n",
    "world_common_words = [word[0] for word in world_counts.most_common(20)]\n",
    "world_common_counts = [word[1] for word in world_counts.most_common(20)]"
   ]
  },
  {
   "cell_type": "code",
   "execution_count": 13,
   "metadata": {
    "colab": {
     "autoexec": {
      "startup": false,
      "wait_interval": 0
     }
    },
    "colab_type": "code",
    "id": "tTdSq5-W5chP"
   },
   "outputs": [
    {
     "data": {
      "image/png": "[encoded data removed]",
      "text/plain": [
       "<Figure size 1296x432 with 1 Axes>"
      ]
     },
     "metadata": {
      "needs_background": "light"
     },
     "output_type": "display_data"
    }
   ],
   "source": [
    "plot_top(ru_common_words,ru_common_counts, 'Россия')"
   ]
  },
  {
   "cell_type": "code",
   "execution_count": 14,
   "metadata": {
    "colab": {
     "autoexec": {
      "startup": false,
      "wait_interval": 0
     }
    },
    "colab_type": "code",
    "id": "-XPbxzCR5chS"
   },
   "outputs": [
    {
     "data": {
      "image/png": "[encoded data removed]",
      "text/plain": [
       "<Figure size 1296x432 with 1 Axes>"
      ]
     },
     "metadata": {
      "needs_background": "light"
     },
     "output_type": "display_data"
    }
   ],
   "source": [
    "plot_top(world_common_words, world_common_counts, 'Мир')"
   ]
  },
  {
   "cell_type": "code",
   "execution_count": 15,
   "metadata": {},
   "outputs": [],
   "source": [
    "class CleanTextTransformer(TransformerMixin):\n",
    "    \n",
    "    def transform(self, X, **transform_params):\n",
    "        return [cleanText(text) for text in X]\n",
    "    \n",
    "    def fit(self, X, y=None, **fit_params):\n",
    "        return self\n",
    "    \n",
    "    def get_params(self, deep=True):\n",
    "        return {}\n",
    "    \n",
    "def cleanText(text):\n",
    "    text = text.strip().replace(\"\\n\", \" \").replace(\"\\r\",\" \")\n",
    "    text = text.lower()\n",
    "    return text\n",
    "\n",
    "def tokenizeText(text):\n",
    "    tokens = ru_nlp(text)\n",
    "    lemmas = []\n",
    "    for tok in tokens:\n",
    "        lemmas.append(tok.lemma_.lower().strip() if tok.lemma_ != PRON else tok.lower_)\n",
    "    tokens = lemmas\n",
    "    tokens = [tok for tok in tokens if tok not in STOPLIST]\n",
    "    tokens = [tok for tok in tokens if tok not in SYMBOLS]\n",
    "    return tokens\n",
    "\n",
    "def printNMostInformative(vectorizer, clf, N):\n",
    "    print(\"Топ %d информативных слов для прогноза.\" % N)\n",
    "    feature_names = vectorizer.get_feature_names()\n",
    "    coefs_with_fns = sorted(zip(clf.coef_[0], feature_names))\n",
    "    topClass1 = coefs_with_fns[:N]\n",
    "    topClass2 = coefs_with_fns[:-(N + 1):-1]\n",
    "    print(\"Для первого скласса: \")\n",
    "    for feat in topClass1:\n",
    "        print(feat)\n",
    "    print(\"Для второго скласса: \")\n",
    "    for feat in topClass2:\n",
    "        print(feat)"
   ]
  },
  {
   "cell_type": "code",
   "execution_count": 16,
   "metadata": {},
   "outputs": [],
   "source": [
    "vectorizer = CountVectorizer(tokenizer=tokenizeText, ngram_range=(1,1))\n",
    "clf = LinearSVC()\n",
    "\n",
    "pipe = Pipeline([('cleanText', CleanTextTransformer()), ('vectorizer', vectorizer), ('clf', clf)])"
   ]
  },
  {
   "cell_type": "code",
   "execution_count": 17,
   "metadata": {},
   "outputs": [],
   "source": [
    "# data\n",
    "train1 = train['title'].tolist()\n",
    "labelsTrain1 = train['topic'].tolist()\n",
    "test1 = test['title'].tolist()\n",
    "labelsTest1 = test['topic'].tolist()"
   ]
  },
  {
   "cell_type": "code",
   "execution_count": 18,
   "metadata": {},
   "outputs": [
    {
     "name": "stdout",
     "output_type": "stream",
     "text": [
      "CPU times: user 2min 46s, sys: 611 ms, total: 2min 47s\n",
      "Wall time: 2min 47s\n"
     ]
    },
    {
     "data": {
      "text/plain": [
       "Pipeline(memory=None,\n",
       "     steps=[('cleanText', <__main__.CleanTextTransformer object at 0x7f6d3591c3c8>), ('vectorizer', CountVectorizer(analyzer='word', binary=False, decode_error='strict',\n",
       "        dtype=<class 'numpy.int64'>, encoding='utf-8', input='content',\n",
       "        lowercase=True, max_df=1.0, max_features=None, min_df=1...ax_iter=1000,\n",
       "     multi_class='ovr', penalty='l2', random_state=None, tol=0.0001,\n",
       "     verbose=0))])"
      ]
     },
     "execution_count": 18,
     "metadata": {},
     "output_type": "execute_result"
    }
   ],
   "source": [
    "%%time\n",
    "pipe.fit(train1, labelsTrain1)\n"
   ]
  },
  {
   "cell_type": "code",
   "execution_count": 19,
   "metadata": {},
   "outputs": [
    {
     "name": "stdout",
     "output_type": "stream",
     "text": [
      "accuracy: 0.9020664497274442\n",
      "Топ 10 информативных слов для прогноза.\n",
      "Для первого скласса: \n",
      "(-2.111125776299975, 'полминуты')\n",
      "(-2.0756492622318508, 'неправовой')\n",
      "(-2.0000046333547776, 'героиновые')\n",
      "(-1.9717285329926295, 'поручительница')\n",
      "(-1.9620189475808818, 'плетень')\n",
      "(-1.930213234320906, 'каида')\n",
      "(-1.9260692100984225, 'контролируемой')\n",
      "(-1.9133515637752418, 'бавария')\n",
      "(-1.8943467285471596, 'дина')\n",
      "(-1.844882111600692, 'бремен')\n",
      "Для второго скласса: \n",
      "(2.763655208683894, 'совфеде')\n",
      "(2.6417040828211427, 'отступиться')\n",
      "(2.31627066431348, 'расклад')\n",
      "(2.2945275790747144, 'клинц')\n",
      "(2.275360379322733, 'нарышкин')\n",
      "(2.244430540657766, 'пушок')\n",
      "(2.1523597999277557, 'косачев')\n",
      "(2.1137878421963805, 'онищенко')\n",
      "(2.05242633123311, 'авиа')\n",
      "(1.9718566907450363, 'смотровой')\n",
      "CPU times: user 1min 18s, sys: 39.9 ms, total: 1min 18s\n",
      "Wall time: 1min 18s\n"
     ]
    }
   ],
   "source": [
    "%%time\n",
    "\n",
    "# test\n",
    "preds = pipe.predict(test1)\n",
    "print(\"accuracy:\", metrics.accuracy_score(labelsTest1, preds))\n",
    "printNMostInformative(vectorizer, clf, 10)\n"
   ]
  },
  {
   "cell_type": "code",
   "execution_count": 20,
   "metadata": {},
   "outputs": [
    {
     "name": "stdout",
     "output_type": "stream",
     "text": [
      "             precision    recall  f1-score   support\n",
      "\n",
      "        Мир       0.89      0.90      0.89     44349\n",
      "     Россия       0.91      0.90      0.91     52145\n",
      "\n",
      "avg / total       0.90      0.90      0.90     96494\n",
      "\n"
     ]
    }
   ],
   "source": [
    "print(metrics.classification_report(labelsTest1, preds, target_names=df['topic'].unique()))"
   ]
  },
  {
   "cell_type": "markdown",
   "metadata": {},
   "source": [
    "## Многоклассовая классификация"
   ]
  },
  {
   "cell_type": "code",
   "execution_count": 21,
   "metadata": {},
   "outputs": [
    {
     "name": "stdout",
     "output_type": "stream",
     "text": [
      "Для топиков:  ['Экономика', 'Спорт', 'Культура', 'Из жизни']\n",
      "Размерность данных для тренировки: (146791, 2)\n",
      "Размерность данных для тестирования: (72301, 2)\n"
     ]
    }
   ],
   "source": [
    "df,train,test = get_data_by_topics(all_data, ['Экономика','Спорт','Культура','Из жизни'])"
   ]
  },
  {
   "cell_type": "code",
   "execution_count": 22,
   "metadata": {},
   "outputs": [],
   "source": [
    "vectorizer = CountVectorizer(tokenizer=tokenizeText, ngram_range=(1,1))\n",
    "clf = LinearSVC()\n",
    "\n",
    "pipe = Pipeline([('cleanText', CleanTextTransformer()), ('vectorizer', vectorizer), ('clf', clf)])\n",
    "\n",
    "# data\n",
    "train1 = train['title'].tolist()\n",
    "labelsTrain1 = train['topic'].tolist()\n",
    "test1 = test['title'].tolist()\n",
    "labelsTest1 = test['topic'].tolist()"
   ]
  },
  {
   "cell_type": "code",
   "execution_count": 23,
   "metadata": {},
   "outputs": [
    {
     "name": "stdout",
     "output_type": "stream",
     "text": [
      "CPU times: user 2min 15s, sys: 192 ms, total: 2min 15s\n",
      "Wall time: 2min 14s\n"
     ]
    },
    {
     "data": {
      "text/plain": [
       "Pipeline(memory=None,\n",
       "     steps=[('cleanText', <__main__.CleanTextTransformer object at 0x7f6d1b218e10>), ('vectorizer', CountVectorizer(analyzer='word', binary=False, decode_error='strict',\n",
       "        dtype=<class 'numpy.int64'>, encoding='utf-8', input='content',\n",
       "        lowercase=True, max_df=1.0, max_features=None, min_df=1...ax_iter=1000,\n",
       "     multi_class='ovr', penalty='l2', random_state=None, tol=0.0001,\n",
       "     verbose=0))])"
      ]
     },
     "execution_count": 23,
     "metadata": {},
     "output_type": "execute_result"
    }
   ],
   "source": [
    "%%time\n",
    "pipe.fit(train1, labelsTrain1)\n"
   ]
  },
  {
   "cell_type": "code",
   "execution_count": 24,
   "metadata": {},
   "outputs": [
    {
     "name": "stdout",
     "output_type": "stream",
     "text": [
      "accuracy: 0.9421584763696215\n",
      "CPU times: user 1min 2s, sys: 0 ns, total: 1min 2s\n",
      "Wall time: 1min 2s\n"
     ]
    }
   ],
   "source": [
    "%%time\n",
    "\n",
    "# test\n",
    "preds = pipe.predict(test1)\n",
    "print(\"accuracy:\", metrics.accuracy_score(labelsTest1, preds))"
   ]
  },
  {
   "cell_type": "code",
   "execution_count": 25,
   "metadata": {},
   "outputs": [
    {
     "name": "stdout",
     "output_type": "stream",
     "text": [
      "             precision    recall  f1-score   support\n",
      "\n",
      "  Экономика       0.83      0.80      0.82      8661\n",
      "   Культура       0.93      0.93      0.93     17397\n",
      "      Спорт       0.97      0.98      0.98     20624\n",
      "   Из жизни       0.96      0.97      0.97     25619\n",
      "\n",
      "avg / total       0.94      0.94      0.94     72301\n",
      "\n"
     ]
    }
   ],
   "source": [
    "print(metrics.classification_report(labelsTest1, preds, target_names=df['topic'].unique()))"
   ]
  }
 ],
 "metadata": {
  "colab": {
   "collapsed_sections": [],
   "default_view": {},
   "name": "text_classification.ipynb",
   "provenance": [],
   "version": "0.3.2",
   "views": {}
  },
  "hide_input": false,
  "kernelspec": {
   "display_name": "Python 3",
   "language": "python",
   "name": "python3"
  },
  "language_info": {
   "codemirror_mode": {
    "name": "ipython",
    "version": 3
   },
   "file_extension": ".py",
   "mimetype": "text/x-python",
   "name": "python",
   "nbconvert_exporter": "python",
   "pygments_lexer": "ipython3",
   "version": "3.6.5"
  }
 },
 "nbformat": 4,
 "nbformat_minor": 2
}
